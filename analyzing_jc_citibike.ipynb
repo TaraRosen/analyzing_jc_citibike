{
 "cells": [
  {
   "cell_type": "code",
   "execution_count": 1,
   "metadata": {},
   "outputs": [],
   "source": [
    "# import libraries\n",
    "import pandas as pd\n",
    "import sqlite3\n",
    "\n",
    "import matplotlib.pyplot as plt\n",
    "%matplotlib inline"
   ]
  },
  {
   "cell_type": "code",
   "execution_count": 2,
   "metadata": {},
   "outputs": [],
   "source": [
    "# connect to database\n",
    "conn = sqlite3.connect(':memory:')\n",
    "\n",
    "# create cursor object\n",
    "cur = conn.cursor()"
   ]
  },
  {
   "cell_type": "code",
   "execution_count": 3,
   "metadata": {},
   "outputs": [],
   "source": [
    "jc8 = pd.read_csv('jc_citi_files/JC-201808-citibike-tripdata.csv')\n",
    "jc9 = pd.read_csv('jc_citi_files/JC-201809-citibike-tripdata.csv')\n",
    "jc10 = pd.read_csv('jc_citi_files/JC-201810-citibike-tripdata.csv')\n",
    "jc11 = pd.read_csv('jc_citi_files/JC-201811-citibike-tripdata.csv')\n",
    "jc12 = pd.read_csv('jc_citi_files/JC-201812-citibike-tripdata.csv')\n",
    "jc1 = pd.read_csv('jc_citi_files/JC-201901-citibike-tripdata.csv')\n",
    "jc2 = pd.read_csv('jc_citi_files/JC-201902-citibike-tripdata.csv')\n",
    "jc3 = pd.read_csv('jc_citi_files/JC-201903-citibike-tripdata.csv')\n",
    "jc4 = pd.read_csv('jc_citi_files/JC-201904-citibike-tripdata.csv')\n",
    "jc5 = pd.read_csv('jc_citi_files/JC-201905-citibike-tripdata.csv')\n",
    "jc6 = pd.read_csv('jc_citi_files/JC-201906-citibike-tripdata.csv')\n",
    "jc7 = pd.read_csv('jc_citi_files/JC-201907-citibike-tripdata.csv')"
   ]
  },
  {
   "cell_type": "code",
   "execution_count": 4,
   "metadata": {},
   "outputs": [],
   "source": [
    "to_append = [jc9, jc10, jc11, jc12, jc1, jc2, jc3, jc4, jc5, jc6, jc7]\n",
    "\n",
    "jc_trips = jc8.append(to_append, ignore_index=True)"
   ]
  },
  {
   "cell_type": "code",
   "execution_count": 5,
   "metadata": {},
   "outputs": [
    {
     "name": "stderr",
     "output_type": "stream",
     "text": [
      "/usr/local/Caskroom/miniconda/base/lib/python3.7/site-packages/pandas/core/generic.py:2663: UserWarning: The spaces in these column names will not be changed. In pandas versions < 0.14, spaces were converted to underscores.\n",
      "  method=method,\n"
     ]
    }
   ],
   "source": [
    "jc_trips.to_csv('jc_trips1819.csv', index=False)\n",
    "jc_trips.to_sql('jc_trips', con = conn, index=False)"
   ]
  },
  {
   "cell_type": "code",
   "execution_count": 6,
   "metadata": {},
   "outputs": [],
   "source": [
    "jc_trips = pd.read_csv('jc_trips1819.csv')"
   ]
  },
  {
   "cell_type": "code",
   "execution_count": 7,
   "metadata": {
    "scrolled": true
   },
   "outputs": [
    {
     "data": {
      "text/html": [
       "<div>\n",
       "<style scoped>\n",
       "    .dataframe tbody tr th:only-of-type {\n",
       "        vertical-align: middle;\n",
       "    }\n",
       "\n",
       "    .dataframe tbody tr th {\n",
       "        vertical-align: top;\n",
       "    }\n",
       "\n",
       "    .dataframe thead th {\n",
       "        text-align: right;\n",
       "    }\n",
       "</style>\n",
       "<table border=\"1\" class=\"dataframe\">\n",
       "  <thead>\n",
       "    <tr style=\"text-align: right;\">\n",
       "      <th></th>\n",
       "      <th>tripduration</th>\n",
       "      <th>starttime</th>\n",
       "      <th>stoptime</th>\n",
       "      <th>start station id</th>\n",
       "      <th>start station name</th>\n",
       "      <th>start station latitude</th>\n",
       "      <th>start station longitude</th>\n",
       "      <th>end station id</th>\n",
       "      <th>end station name</th>\n",
       "      <th>end station latitude</th>\n",
       "      <th>end station longitude</th>\n",
       "      <th>bikeid</th>\n",
       "      <th>usertype</th>\n",
       "      <th>birth year</th>\n",
       "      <th>gender</th>\n",
       "    </tr>\n",
       "  </thead>\n",
       "  <tbody>\n",
       "    <tr>\n",
       "      <th>0</th>\n",
       "      <td>903</td>\n",
       "      <td>2018-08-01 06:40:33.3610</td>\n",
       "      <td>2018-08-01 06:55:37.1060</td>\n",
       "      <td>3183</td>\n",
       "      <td>Exchange Place</td>\n",
       "      <td>40.716247</td>\n",
       "      <td>-74.033459</td>\n",
       "      <td>3270</td>\n",
       "      <td>Jersey &amp; 6th St</td>\n",
       "      <td>40.725289</td>\n",
       "      <td>-74.045572</td>\n",
       "      <td>29612</td>\n",
       "      <td>Subscriber</td>\n",
       "      <td>1977</td>\n",
       "      <td>1</td>\n",
       "    </tr>\n",
       "    <tr>\n",
       "      <th>1</th>\n",
       "      <td>78</td>\n",
       "      <td>2018-08-01 08:21:00.1450</td>\n",
       "      <td>2018-08-01 08:22:18.6310</td>\n",
       "      <td>3183</td>\n",
       "      <td>Exchange Place</td>\n",
       "      <td>40.716247</td>\n",
       "      <td>-74.033459</td>\n",
       "      <td>3184</td>\n",
       "      <td>Paulus Hook</td>\n",
       "      <td>40.714145</td>\n",
       "      <td>-74.033552</td>\n",
       "      <td>29791</td>\n",
       "      <td>Subscriber</td>\n",
       "      <td>1975</td>\n",
       "      <td>1</td>\n",
       "    </tr>\n",
       "    <tr>\n",
       "      <th>2</th>\n",
       "      <td>405</td>\n",
       "      <td>2018-08-01 08:43:52.5150</td>\n",
       "      <td>2018-08-01 08:50:37.6140</td>\n",
       "      <td>3183</td>\n",
       "      <td>Exchange Place</td>\n",
       "      <td>40.716247</td>\n",
       "      <td>-74.033459</td>\n",
       "      <td>3202</td>\n",
       "      <td>Newport PATH</td>\n",
       "      <td>40.727224</td>\n",
       "      <td>-74.033759</td>\n",
       "      <td>29571</td>\n",
       "      <td>Subscriber</td>\n",
       "      <td>1973</td>\n",
       "      <td>1</td>\n",
       "    </tr>\n",
       "    <tr>\n",
       "      <th>3</th>\n",
       "      <td>155</td>\n",
       "      <td>2018-08-01 09:48:24.9450</td>\n",
       "      <td>2018-08-01 09:51:00.9360</td>\n",
       "      <td>3183</td>\n",
       "      <td>Exchange Place</td>\n",
       "      <td>40.716247</td>\n",
       "      <td>-74.033459</td>\n",
       "      <td>3275</td>\n",
       "      <td>Columbus Drive</td>\n",
       "      <td>40.718355</td>\n",
       "      <td>-74.038914</td>\n",
       "      <td>29504</td>\n",
       "      <td>Subscriber</td>\n",
       "      <td>1971</td>\n",
       "      <td>1</td>\n",
       "    </tr>\n",
       "    <tr>\n",
       "      <th>4</th>\n",
       "      <td>453</td>\n",
       "      <td>2018-08-01 12:15:35.1230</td>\n",
       "      <td>2018-08-01 12:23:08.8880</td>\n",
       "      <td>3183</td>\n",
       "      <td>Exchange Place</td>\n",
       "      <td>40.716247</td>\n",
       "      <td>-74.033459</td>\n",
       "      <td>3273</td>\n",
       "      <td>Manila &amp; 1st</td>\n",
       "      <td>40.721651</td>\n",
       "      <td>-74.042884</td>\n",
       "      <td>33669</td>\n",
       "      <td>Subscriber</td>\n",
       "      <td>1993</td>\n",
       "      <td>1</td>\n",
       "    </tr>\n",
       "  </tbody>\n",
       "</table>\n",
       "</div>"
      ],
      "text/plain": [
       "   tripduration                 starttime                  stoptime  \\\n",
       "0           903  2018-08-01 06:40:33.3610  2018-08-01 06:55:37.1060   \n",
       "1            78  2018-08-01 08:21:00.1450  2018-08-01 08:22:18.6310   \n",
       "2           405  2018-08-01 08:43:52.5150  2018-08-01 08:50:37.6140   \n",
       "3           155  2018-08-01 09:48:24.9450  2018-08-01 09:51:00.9360   \n",
       "4           453  2018-08-01 12:15:35.1230  2018-08-01 12:23:08.8880   \n",
       "\n",
       "   start station id start station name  start station latitude  \\\n",
       "0              3183     Exchange Place               40.716247   \n",
       "1              3183     Exchange Place               40.716247   \n",
       "2              3183     Exchange Place               40.716247   \n",
       "3              3183     Exchange Place               40.716247   \n",
       "4              3183     Exchange Place               40.716247   \n",
       "\n",
       "   start station longitude  end station id end station name  \\\n",
       "0               -74.033459            3270  Jersey & 6th St   \n",
       "1               -74.033459            3184      Paulus Hook   \n",
       "2               -74.033459            3202     Newport PATH   \n",
       "3               -74.033459            3275   Columbus Drive   \n",
       "4               -74.033459            3273     Manila & 1st   \n",
       "\n",
       "   end station latitude  end station longitude  bikeid    usertype  \\\n",
       "0             40.725289             -74.045572   29612  Subscriber   \n",
       "1             40.714145             -74.033552   29791  Subscriber   \n",
       "2             40.727224             -74.033759   29571  Subscriber   \n",
       "3             40.718355             -74.038914   29504  Subscriber   \n",
       "4             40.721651             -74.042884   33669  Subscriber   \n",
       "\n",
       "   birth year  gender  \n",
       "0        1977       1  \n",
       "1        1975       1  \n",
       "2        1973       1  \n",
       "3        1971       1  \n",
       "4        1993       1  "
      ]
     },
     "execution_count": 7,
     "metadata": {},
     "output_type": "execute_result"
    }
   ],
   "source": [
    "jc_trips.head()"
   ]
  },
  {
   "cell_type": "code",
   "execution_count": 8,
   "metadata": {},
   "outputs": [
    {
     "name": "stdout",
     "output_type": "stream",
     "text": [
      "<class 'pandas.core.frame.DataFrame'>\n",
      "RangeIndex: 381921 entries, 0 to 381920\n",
      "Data columns (total 15 columns):\n",
      " #   Column                   Non-Null Count   Dtype  \n",
      "---  ------                   --------------   -----  \n",
      " 0   tripduration             381921 non-null  int64  \n",
      " 1   starttime                381921 non-null  object \n",
      " 2   stoptime                 381921 non-null  object \n",
      " 3   start station id         381921 non-null  int64  \n",
      " 4   start station name       381921 non-null  object \n",
      " 5   start station latitude   381921 non-null  float64\n",
      " 6   start station longitude  381921 non-null  float64\n",
      " 7   end station id           381921 non-null  int64  \n",
      " 8   end station name         381921 non-null  object \n",
      " 9   end station latitude     381921 non-null  float64\n",
      " 10  end station longitude    381921 non-null  float64\n",
      " 11  bikeid                   381921 non-null  int64  \n",
      " 12  usertype                 381921 non-null  object \n",
      " 13  birth year               381921 non-null  int64  \n",
      " 14  gender                   381921 non-null  int64  \n",
      "dtypes: float64(4), int64(6), object(5)\n",
      "memory usage: 43.7+ MB\n"
     ]
    }
   ],
   "source": [
    "jc_trips.info()"
   ]
  },
  {
   "cell_type": "code",
   "execution_count": 10,
   "metadata": {},
   "outputs": [
    {
     "data": {
      "text/plain": [
       "(array([ 9864., 36602., 55477., 56255., 42876., 32145., 24712., 19114.,\n",
       "        14942., 11467.,  9077.,  7211.,  6019.,  4920.,  4247.,  3771.,\n",
       "         3125.,  2831.,  2393.,  2229.,  2017.,  1679.,  1634.,  1402.,\n",
       "         1391.,  1297.,  1199.,  1040.,  1095.,   906.,   769.,   722.,\n",
       "          660.,   623.,   550.,   585.,   545.,   500.,   533.,   475.,\n",
       "          505.,   387.,   397.,   368.,   285.,   222.,   186.,   171.,\n",
       "          169.]),\n",
       " array([  90,  120,  180,  240,  300,  360,  420,  480,  540,  600,  660,\n",
       "         720,  780,  840,  900,  960, 1020, 1080, 1140, 1200, 1260, 1320,\n",
       "        1380, 1440, 1500, 1560, 1620, 1680, 1740, 1800, 1860, 1920, 1980,\n",
       "        2040, 2100, 2160, 2220, 2280, 2340, 2400, 2460, 2520, 2580, 2640,\n",
       "        2700, 2760, 2820, 2880, 2940, 3000]),\n",
       " <a list of 49 Patch objects>)"
      ]
     },
     "execution_count": 10,
     "metadata": {},
     "output_type": "execute_result"
    },
    {
     "data": {
      "image/png": "[encoded data removed]",
      "text/plain": [
       "<Figure size 432x288 with 1 Axes>"
      ]
     },
     "metadata": {
      "needs_background": "light"
     },
     "output_type": "display_data"
    }
   ],
   "source": [
    "bins=[90,120,180,240,300,360,420,480,540,600,660,720,780,840,900,960,1020,1080,1140,1200,1260,1320,1380,1440,\n",
    "      1500,1560,1620,1680,1740,1800,1860,1920,1980,2040,2100,2160,2220,2280,2340,2400,2460,2520,2580,2640,\n",
    "      2700,2760,2820,2880,2940,3000]\n",
    "\n",
    "plt.hist(jc_trips['tripduration'], bins=bins)"
   ]
  },
  {
   "cell_type": "code",
   "execution_count": 11,
   "metadata": {},
   "outputs": [
    {
     "data": {
      "text/plain": [
       "count    3.819210e+05\n",
       "mean     7.045584e+02\n",
       "std      8.084349e+03\n",
       "min      6.100000e+01\n",
       "25%      2.290000e+02\n",
       "50%      3.370000e+02\n",
       "75%      5.580000e+02\n",
       "max      2.061932e+06\n",
       "Name: tripduration, dtype: float64"
      ]
     },
     "execution_count": 11,
     "metadata": {},
     "output_type": "execute_result"
    }
   ],
   "source": [
    "jc_trips['tripduration'].describe()"
   ]
  },
  {
   "cell_type": "code",
   "execution_count": null,
   "metadata": {},
   "outputs": [],
   "source": []
  }
 ],
 "metadata": {
  "kernelspec": {
   "display_name": "Python 3",
   "language": "python",
   "name": "python3"
  },
  "language_info": {
   "codemirror_mode": {
    "name": "ipython",
    "version": 3
   },
   "file_extension": ".py",
   "mimetype": "text/x-python",
   "name": "python",
   "nbconvert_exporter": "python",
   "pygments_lexer": "ipython3",
   "version": "3.7.4"
  }
 },
 "nbformat": 4,
 "nbformat_minor": 4
}
